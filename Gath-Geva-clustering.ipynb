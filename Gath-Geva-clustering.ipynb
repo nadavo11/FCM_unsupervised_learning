{
 "cells": [
  {
   "cell_type": "markdown",
   "source": [
    "# Gath - Geva Clustering"
   ],
   "metadata": {
    "collapsed": false
   }
  },
  {
   "cell_type": "code",
   "execution_count": 2,
   "outputs": [],
   "source": [
    "\n",
    "import numpy as np"
   ],
   "metadata": {
    "collapsed": false
   }
  },
  {
   "cell_type": "markdown",
   "source": [
    "# Classical fuzzy clustering: FCM\n",
    "Fuzzy C-means (FCM) is a clustering algorithm that is used to partition data points $\\{x_i\\}_1^n$ into a predefined number of clusters $c$. The algorithm is a 'soft' clustering method, which allows each data point to belong to multiple clusters to a certain degree.\n",
    "\n",
    "The FCM algorithm can be summarized as follows:\n",
    "\n",
    "1. Initialize the cluster centers.\n",
    "2. Calculate the membership degrees of each data point to each cluster.\n",
    "$$ p(w_j|x_i) \\leftarrow\n",
    "    \\frac\n",
    "        {({\\frac{1}{d_{ij} ^2 })^{1/b-1}}}\n",
    "        {\\sum_{i=1}^N({\\frac{1}{d_{ij} ^2 })^{1/b-1}}}\n",
    "        $$\n",
    "\n",
    "\n",
    "3. Update the cluster centers based on the membership degrees.\n",
    "$$\\mu_{cx} \\leftarrow \\frac{\n",
    "        \\sum_{i=1}^N \\hat p(w_i|x_j)^b \\cdot x_j}\n",
    "    {\n",
    "        \\sum_{i=1}^N \\hat p(w_i|x_j)^b }$$\n",
    "\n",
    "Repeat steps 2-3 until the cluster centers converge.\n",
    "\n",
    "\n",
    "where $d(x,c_i)$ is the distance between the data point $x$ and the cluster center $c$\n",
    "i\n",
    "​\n",
    " , m is a fuzzifier parameter, and c is the number of clusters.\n",
    "\n",
    "The FCM algorithm is a versatile clustering algorithm that can be used to cluster data of different types. It is also relatively robust to noise and outliers.\n",
    "\n",
    "Here is the pseudocode for the FCM algorithm:\n"
   ],
   "metadata": {
    "collapsed": false
   }
  },
  {
   "cell_type": "code",
   "execution_count": null,
   "outputs": [],
   "source": [],
   "metadata": {
    "collapsed": false
   }
  }
 ],
 "metadata": {
  "kernelspec": {
   "display_name": "Python 3",
   "language": "python",
   "name": "python3"
  },
  "language_info": {
   "codemirror_mode": {
    "name": "ipython",
    "version": 2
   },
   "file_extension": ".py",
   "mimetype": "text/x-python",
   "name": "python",
   "nbconvert_exporter": "python",
   "pygments_lexer": "ipython2",
   "version": "2.7.6"
  }
 },
 "nbformat": 4,
 "nbformat_minor": 0
}
